{
  "nbformat": 4,
  "nbformat_minor": 0,
  "metadata": {
    "colab": {
      "name": "group_4_assignment_3.ipynb",
      "version": "0.3.2",
      "provenance": [],
      "collapsed_sections": []
    },
    "kernelspec": {
      "name": "python3",
      "display_name": "Python 3"
    }
  },
  "cells": [
    {
      "cell_type": "markdown",
      "metadata": {
        "id": "OyAmkH6AyAdx",
        "colab_type": "text"
      },
      "source": [
        "# -*- coding: utf-8 -*-\n",
        "\"\"\"\n",
        "Created on Mon Sep  9 21:16:02 2019\n",
        "\n",
        "@author: Bo Li\n",
        "\"\"\""
      ]
    },
    {
      "cell_type": "code",
      "metadata": {
        "id": "YpFo06qLyBPc",
        "colab_type": "code",
        "colab": {}
      },
      "source": [
        "import urllib.request\n",
        "import requests\n",
        "from lxml import objectify\n",
        "from lxml import etree\n"
      ],
      "execution_count": 0,
      "outputs": []
    },
    {
      "cell_type": "markdown",
      "metadata": {
        "id": "5lzaIZxCyHR1",
        "colab_type": "text"
      },
      "source": [
        "# define year and url"
      ]
    },
    {
      "cell_type": "code",
      "metadata": {
        "id": "rqDeTTp1yHpU",
        "colab_type": "code",
        "colab": {}
      },
      "source": [
        "year = ('2012','2013','2014','2015','2016','2017','2018')\n",
        "url = 'http://data.treasury.gov/feed.svc/DailyTreasuryYieldCurveRateData?$filter=year(NEW_DATE)%20eq%20'\n"
      ],
      "execution_count": 0,
      "outputs": []
    },
    {
      "cell_type": "markdown",
      "metadata": {
        "id": "vNZlUt3xyMP3",
        "colab_type": "text"
      },
      "source": [
        "# retrive and check 2018's tbill data (one month, three months, six months and date)"
      ]
    },
    {
      "cell_type": "code",
      "metadata": {
        "id": "GTrVbuVmzEKE",
        "colab_type": "code",
        "colab": {}
      },
      "source": [
        "xml = urllib.request.urlopen(url+year[-1]).read()\n",
        "tree = etree.fromstring(xml)\n",
        "tree.xpath(\"//*\")\n",
        "tbill1month =tree.findall(\".//{http://schemas.microsoft.com/ado/2007/08/dataservices}BC_1MONTH\")\n",
        "tbill1month[0].text\n",
        "tbill3month =tree.findall(\".//{http://schemas.microsoft.com/ado/2007/08/dataservices}BC_3MONTH\")\n",
        "tbill3month[0].text\n",
        "tbill6month =tree.findall(\".//{http://schemas.microsoft.com/ado/2007/08/dataservices}BC_6MONTH\")\n",
        "tbill6month[0].text\n",
        "date =tree.findall(\".//{http://schemas.microsoft.com/ado/2007/08/dataservices}NEW_DATE\")\n",
        "date[0].text"
      ],
      "execution_count": 0,
      "outputs": []
    },
    {
      "cell_type": "markdown",
      "metadata": {
        "id": "UQp5s-KCzGQl",
        "colab_type": "text"
      },
      "source": [
        "# create empty lists"
      ]
    },
    {
      "cell_type": "code",
      "metadata": {
        "id": "IMPKvb33zIMj",
        "colab_type": "code",
        "colab": {}
      },
      "source": [
        "datetext = []\n",
        "tbill1monthtext = []\n",
        "tbill3monthtext = []\n",
        "tbill6monthtext = []"
      ],
      "execution_count": 0,
      "outputs": []
    },
    {
      "cell_type": "markdown",
      "metadata": {
        "id": "jV1XbKrszJ6t",
        "colab_type": "text"
      },
      "source": [
        "# use for loop to get data as mentioned above "
      ]
    },
    {
      "cell_type": "code",
      "metadata": {
        "id": "J3FBOJxmzLsT",
        "colab_type": "code",
        "colab": {}
      },
      "source": [
        "for num in range(0,len(date)):\n",
        "    datetext.append(date[num].text)\n",
        "for num in range(0,len(date)):\n",
        "    tbill1monthtext.append(tbill1month[num].text)\n",
        "for num in range(0,len(date)):\n",
        "    tbill3monthtext.append(tbill3month[num].text)\n",
        "for num in range(0,len(date)):\n",
        "    tbill6monthtext.append(tbill6month[num].text)"
      ],
      "execution_count": 0,
      "outputs": []
    },
    {
      "cell_type": "markdown",
      "metadata": {
        "id": "usofaqpUzNaR",
        "colab_type": "text"
      },
      "source": [
        "# save the yeild rates we get in a two-dimensional array(each column is a yield rate type, each row is a date)"
      ]
    },
    {
      "cell_type": "code",
      "metadata": {
        "id": "cM1i8d4zzRFW",
        "colab_type": "code",
        "colab": {}
      },
      "source": [
        "import numpy as np\n",
        "tbill2018 = np.array([datetext,tbill1monthtext,tbill3monthtext,tbill6monthtext]).T"
      ],
      "execution_count": 0,
      "outputs": []
    },
    {
      "cell_type": "markdown",
      "metadata": {
        "id": "YhGm_yz-zUeN",
        "colab_type": "text"
      },
      "source": [
        "# check array"
      ]
    },
    {
      "cell_type": "code",
      "metadata": {
        "id": "rrOmMcXSzVAL",
        "colab_type": "code",
        "colab": {}
      },
      "source": [
        "print(tbill2018.shape)"
      ],
      "execution_count": 0,
      "outputs": []
    },
    {
      "cell_type": "markdown",
      "metadata": {
        "id": "CgWn_cOczcRj",
        "colab_type": "text"
      },
      "source": [
        "# use the same method to retrive yeild rates data from 2012 to 2018"
      ]
    },
    {
      "cell_type": "code",
      "metadata": {
        "id": "52SIu0xezeb5",
        "colab_type": "code",
        "colab": {}
      },
      "source": [
        "xml = urllib.request.urlopen(url+year[0]).read()\n",
        "tree = etree.fromstring(xml)\n",
        "tbill1month2012 = tree.findall(\".//{http://schemas.microsoft.com/ado/2007/08/dataservices}BC_1MONTH\")\n",
        "\n",
        "xml = urllib.request.urlopen(url+year[1]).read()\n",
        "tree = etree.fromstring(xml)\n",
        "tbill1month2013 = tree.findall(\".//{http://schemas.microsoft.com/ado/2007/08/dataservices}BC_1MONTH\")\n",
        "\n",
        "xml = urllib.request.urlopen(url+year[2]).read()\n",
        "tree = etree.fromstring(xml)\n",
        "tbill1month2014 = tree.findall(\".//{http://schemas.microsoft.com/ado/2007/08/dataservices}BC_1MONTH\")\n",
        "\n",
        "xml = urllib.request.urlopen(url+year[3]).read()\n",
        "tree = etree.fromstring(xml)\n",
        "tbill1month2015 = tree.findall(\".//{http://schemas.microsoft.com/ado/2007/08/dataservices}BC_1MONTH\")\n",
        "\n",
        "xml = urllib.request.urlopen(url+year[4]).read()\n",
        "tree = etree.fromstring(xml)\n",
        "tbill1month2016 = tree.findall(\".//{http://schemas.microsoft.com/ado/2007/08/dataservices}BC_1MONTH\")\n",
        "\n",
        "xml = urllib.request.urlopen(url+year[5]).read()\n",
        "tree = etree.fromstring(xml)\n",
        "tbill1month2017 = tree.findall(\".//{http://schemas.microsoft.com/ado/2007/08/dataservices}BC_1MONTH\")\n",
        "\n",
        "xml = urllib.request.urlopen(url+year[6]).read()\n",
        "tree = etree.fromstring(xml)\n",
        "tbill1month2018 = tree.findall(\".//{http://schemas.microsoft.com/ado/2007/08/dataservices}BC_1MONTH\")\n",
        "\n",
        "\n",
        "# create empty lists\n",
        "tbill1month2012text = []\n",
        "tbill1month2013text = []\n",
        "tbill1month2014text = []\n",
        "tbill1month2015text = []\n",
        "tbill1month2016text = []\n",
        "tbill1month2017text = []\n",
        "tbill1month2018text = []\n"
      ],
      "execution_count": 0,
      "outputs": []
    },
    {
      "cell_type": "markdown",
      "metadata": {
        "id": "OpM6pPfqzlBG",
        "colab_type": "text"
      },
      "source": [
        "# use for loop to get one month yeild rates "
      ]
    },
    {
      "cell_type": "code",
      "metadata": {
        "id": "8S2ly-QBzm0g",
        "colab_type": "code",
        "colab": {}
      },
      "source": [
        "for num in range(0,len(tbill1month2012)):\n",
        "    tbill1month2012text.append(tbill1month2012[num].text)\n",
        "for num in range(0,len(tbill1month2013)):\n",
        "    tbill1month2013text.append(tbill1month2013[num].text)\n",
        "for num in range(0,len(tbill1month2014)):\n",
        "    tbill1month2014text.append(tbill1month2014[num].text)\n",
        "for num in range(0,len(tbill1month2015)):\n",
        "    tbill1month2015text.append(tbill1month2015[num].text)\n",
        "for num in range(0,len(tbill1month2016)):\n",
        "    tbill1month2016text.append(tbill1month2016[num].text)\n",
        "for num in range(0,len(tbill1month2017)):\n",
        "    tbill1month2017text.append(tbill1month2017[num].text)\n",
        "for num in range(0,len(tbill1month2018)):\n",
        "    tbill1month2018text.append(tbill1month2018[num].text)"
      ],
      "execution_count": 0,
      "outputs": []
    },
    {
      "cell_type": "markdown",
      "metadata": {
        "id": "-b3hIMKmzqD6",
        "colab_type": "text"
      },
      "source": [
        "# check length of every list"
      ]
    },
    {
      "cell_type": "code",
      "metadata": {
        "id": "NyttIDgTzryC",
        "colab_type": "code",
        "colab": {}
      },
      "source": [
        "len(tbill1month2012text)\n",
        "len(tbill1month2013text)\n",
        "len(tbill1month2014text)\n",
        "len(tbill1month2015text)\n",
        "len(tbill1month2016text)\n",
        "len(tbill1month2017text)\n",
        "len(tbill1month2018text)"
      ],
      "execution_count": 0,
      "outputs": []
    },
    {
      "cell_type": "markdown",
      "metadata": {
        "id": "BTAFJpSTztZ3",
        "colab_type": "text"
      },
      "source": [
        "# make each list to have the same length"
      ]
    },
    {
      "cell_type": "code",
      "metadata": {
        "id": "nSAuuBrUzvOd",
        "colab_type": "code",
        "colab": {}
      },
      "source": [
        "tbill1month2012text.extend(['NA'])\n",
        "tbill1month2013text.extend(['NA'])\n",
        "tbill1month2014text.extend(['NA'])\n",
        "tbill1month2016text.extend(['NA'])\n",
        "tbill1month2018text.extend(['NA','NA'])\n"
      ],
      "execution_count": 0,
      "outputs": []
    },
    {
      "cell_type": "markdown",
      "metadata": {
        "id": "JE9DlgPwzxae",
        "colab_type": "text"
      },
      "source": [
        "#double check the length"
      ]
    },
    {
      "cell_type": "code",
      "metadata": {
        "id": "aTXSR79hzy53",
        "colab_type": "code",
        "colab": {}
      },
      "source": [
        "len(tbill1month2012text)\n",
        "len(tbill1month2013text)\n",
        "len(tbill1month2014text)\n",
        "len(tbill1month2015text)\n",
        "len(tbill1month2016text)\n",
        "len(tbill1month2017text)\n",
        "len(tbill1month2018text)\n"
      ],
      "execution_count": 0,
      "outputs": []
    },
    {
      "cell_type": "markdown",
      "metadata": {
        "id": "IxHg78N2z1G9",
        "colab_type": "text"
      },
      "source": [
        "# save yeild rates into an array"
      ]
    },
    {
      "cell_type": "code",
      "metadata": {
        "id": "pyhCgk2oz2_i",
        "colab_type": "code",
        "colab": {}
      },
      "source": [
        "import numpy as np   \n",
        "tbill1monthrange = np.array([tbill1month2012text,tbill1month2013text,tbill1month2014text,tbill1month2015text,tbill1month2016text,tbill1month2017text,tbill1month2018text,]).T\n",
        "print(tbill1monthrange.shape)"
      ],
      "execution_count": 0,
      "outputs": []
    },
    {
      "cell_type": "markdown",
      "metadata": {
        "id": "iJ5G0WTAz41v",
        "colab_type": "text"
      },
      "source": [
        "# output the csv file to google drive"
      ]
    },
    {
      "cell_type": "code",
      "metadata": {
        "id": "8YoDjH7-z7Fd",
        "colab_type": "code",
        "colab": {
          "base_uri": "https://localhost:8080/",
          "height": 34
        },
        "outputId": "1de6e0d7-c15d-4f8e-8d97-b4100f22df9a"
      },
      "source": [
        "from google.colab import drive\n",
        "import csv\n",
        "drive.mount('/content/drive')\n",
        "f = open('/content/drive/My Drive/tbill.csv', 'w')\n",
        "writer = csv.writer(f)\n",
        "writer.writerows([('tbill1month2012','tbill1month2013','tbill1month2014','tbill1month2015','tbill1month2016','tbill1month2017','tbill1month2018',),\n",
        "                  tbill1monthrange[0,],tbill1monthrange[1,],tbill1monthrange[2,],tbill1monthrange[3,],\n",
        "                 tbill1monthrange[4,],tbill1monthrange[5,],tbill1monthrange[6,],\n",
        "                 tbill1monthrange[7,],tbill1monthrange[8,],tbill1monthrange[9,],\n",
        "                 tbill1monthrange[10,],tbill1monthrange[11,],tbill1monthrange[12,],\n",
        "                 tbill1monthrange[13,],tbill1monthrange[14,],tbill1monthrange[15,],\n",
        "                 tbill1monthrange[16,],tbill1monthrange[17,],tbill1monthrange[18,],\n",
        "                 tbill1monthrange[19,],tbill1monthrange[20,],tbill1monthrange[21,],\n",
        "                 tbill1monthrange[22,],tbill1monthrange[23,],tbill1monthrange[24,],\n",
        "                 tbill1monthrange[25,],tbill1monthrange[26,],tbill1monthrange[27,],\n",
        "                 tbill1monthrange[28,],tbill1monthrange[29,],tbill1monthrange[30,],\n",
        "                 tbill1monthrange[31,],tbill1monthrange[32,],tbill1monthrange[33,],\n",
        "                 tbill1monthrange[34,],tbill1monthrange[35,],tbill1monthrange[36,],\n",
        "                 tbill1monthrange[37,],tbill1monthrange[38,],tbill1monthrange[39,],\n",
        "                 tbill1monthrange[40,],tbill1monthrange[41,],tbill1monthrange[42,],\n",
        "                 tbill1monthrange[43,],tbill1monthrange[44,],tbill1monthrange[45,],\n",
        "                 tbill1monthrange[46,],tbill1monthrange[47,],tbill1monthrange[48,],\n",
        "                 tbill1monthrange[49,],tbill1monthrange[50,],tbill1monthrange[51,],\n",
        "                 tbill1monthrange[52,],tbill1monthrange[53,],tbill1monthrange[54,],\n",
        "                 tbill1monthrange[55,],tbill1monthrange[56,],tbill1monthrange[57,],\n",
        "                 tbill1monthrange[58,],tbill1monthrange[59,],tbill1monthrange[60,],\n",
        "                 tbill1monthrange[61,],tbill1monthrange[62,],tbill1monthrange[63,],\n",
        "                 tbill1monthrange[64,],tbill1monthrange[65,],tbill1monthrange[66,],\n",
        "                 tbill1monthrange[67,],tbill1monthrange[68,],tbill1monthrange[69,],\n",
        "                 tbill1monthrange[70,],tbill1monthrange[71,],tbill1monthrange[72,],\n",
        "                 tbill1monthrange[73,],tbill1monthrange[74,],tbill1monthrange[75,],\n",
        "                 tbill1monthrange[76,],tbill1monthrange[77,],tbill1monthrange[78,],\n",
        "                 tbill1monthrange[79,],tbill1monthrange[80,],tbill1monthrange[81,],\n",
        "                 tbill1monthrange[82,],tbill1monthrange[83,],tbill1monthrange[84,],\n",
        "                 tbill1monthrange[85,],tbill1monthrange[86,],tbill1monthrange[87,],\n",
        "                 tbill1monthrange[88,],tbill1monthrange[89,],tbill1monthrange[90,],\n",
        "                 tbill1monthrange[91,],tbill1monthrange[92,],tbill1monthrange[93,],\n",
        "                 tbill1monthrange[94,],tbill1monthrange[95,],tbill1monthrange[96,],\n",
        "                 tbill1monthrange[97,],tbill1monthrange[98,],tbill1monthrange[99,],\n",
        "                 tbill1monthrange[100,],tbill1monthrange[101,],tbill1monthrange[102,],\n",
        "                 tbill1monthrange[103,],tbill1monthrange[104,],tbill1monthrange[105,],\n",
        "                 tbill1monthrange[106,],tbill1monthrange[107,],tbill1monthrange[108,],\n",
        "                 tbill1monthrange[109,],tbill1monthrange[110,],tbill1monthrange[111,],\n",
        "                 tbill1monthrange[112,],tbill1monthrange[113,],tbill1monthrange[114,],\n",
        "                 tbill1monthrange[115,],tbill1monthrange[116,],tbill1monthrange[117,],\n",
        "                 tbill1monthrange[118,],tbill1monthrange[119,],tbill1monthrange[120,],\n",
        "                 tbill1monthrange[121,],tbill1monthrange[122,],tbill1monthrange[123,],\n",
        "                 tbill1monthrange[124,],tbill1monthrange[125,],tbill1monthrange[126,],\n",
        "                 tbill1monthrange[127,],tbill1monthrange[128,],tbill1monthrange[129,],\n",
        "                 tbill1monthrange[130,],tbill1monthrange[131,],tbill1monthrange[132,],\n",
        "                 tbill1monthrange[133,],tbill1monthrange[134,],tbill1monthrange[135,],\n",
        "                 tbill1monthrange[136,],tbill1monthrange[137,],tbill1monthrange[138,],\n",
        "                 tbill1monthrange[139,],tbill1monthrange[140,],tbill1monthrange[141,],\n",
        "                 tbill1monthrange[142,],tbill1monthrange[143,],tbill1monthrange[144,],\n",
        "                 tbill1monthrange[145,],tbill1monthrange[146,],tbill1monthrange[147,],\n",
        "                 tbill1monthrange[148,],tbill1monthrange[149,],tbill1monthrange[150,],\n",
        "                 tbill1monthrange[151,],tbill1monthrange[152,],tbill1monthrange[153,],\n",
        "                 tbill1monthrange[154,],tbill1monthrange[155,],tbill1monthrange[156,],\n",
        "                 tbill1monthrange[157,],tbill1monthrange[158,],tbill1monthrange[159,],\n",
        "                 tbill1monthrange[160,],tbill1monthrange[161,],tbill1monthrange[160,],\n",
        "                 tbill1monthrange[163,],tbill1monthrange[164,],tbill1monthrange[165,],\n",
        "                 tbill1monthrange[166,],tbill1monthrange[167,],tbill1monthrange[168,],\n",
        "                 tbill1monthrange[169,],tbill1monthrange[170,],tbill1monthrange[171,],\n",
        "                 tbill1monthrange[172,],tbill1monthrange[173,],tbill1monthrange[174,],\n",
        "                 tbill1monthrange[175,],tbill1monthrange[176,],tbill1monthrange[177,],\n",
        "                 tbill1monthrange[178,],tbill1monthrange[179,],tbill1monthrange[180,],\n",
        "                 tbill1monthrange[181,],tbill1monthrange[182,],tbill1monthrange[183,],\n",
        "                 tbill1monthrange[184,],tbill1monthrange[185,],tbill1monthrange[186,],\n",
        "                 tbill1monthrange[187,],tbill1monthrange[188,],tbill1monthrange[189,],\n",
        "                 tbill1monthrange[190,],tbill1monthrange[191,],tbill1monthrange[192,],\n",
        "                 tbill1monthrange[193,],tbill1monthrange[194,],tbill1monthrange[195,],\n",
        "                 tbill1monthrange[196,],tbill1monthrange[197,],tbill1monthrange[198,],\n",
        "                 tbill1monthrange[199,],tbill1monthrange[200,],tbill1monthrange[201,],\n",
        "                 tbill1monthrange[202,],tbill1monthrange[203,],tbill1monthrange[204,],\n",
        "                 tbill1monthrange[205,],tbill1monthrange[206,],tbill1monthrange[207,],\n",
        "                 tbill1monthrange[208,],tbill1monthrange[209,],tbill1monthrange[210,],\n",
        "                 tbill1monthrange[211,],tbill1monthrange[212,],tbill1monthrange[213,],\n",
        "                 tbill1monthrange[214,],tbill1monthrange[215,],tbill1monthrange[216,],\n",
        "                 tbill1monthrange[217,],tbill1monthrange[218,],tbill1monthrange[219,],\n",
        "                 tbill1monthrange[220,],tbill1monthrange[221,],tbill1monthrange[222,],\n",
        "                 tbill1monthrange[223,],tbill1monthrange[224,],tbill1monthrange[225,],\n",
        "                 tbill1monthrange[226,],tbill1monthrange[227,],tbill1monthrange[228,],\n",
        "                 tbill1monthrange[229,],tbill1monthrange[230,],tbill1monthrange[231,],\n",
        "                 tbill1monthrange[232,],tbill1monthrange[233,],tbill1monthrange[234,],\n",
        "                 tbill1monthrange[235,],tbill1monthrange[236,],tbill1monthrange[237,],\n",
        "                 tbill1monthrange[238,],tbill1monthrange[239,],tbill1monthrange[240,],\n",
        "                 tbill1monthrange[241,],tbill1monthrange[242,],tbill1monthrange[243,],\n",
        "                 tbill1monthrange[244,],tbill1monthrange[245,],tbill1monthrange[246,],\n",
        "                 tbill1monthrange[247,],tbill1monthrange[248,],tbill1monthrange[249,],\n",
        "                 tbill1monthrange[250,]])\n",
        "f.close()\n"
      ],
      "execution_count": 43,
      "outputs": [
        {
          "output_type": "stream",
          "text": [
            "Drive already mounted at /content/drive; to attempt to forcibly remount, call drive.mount(\"/content/drive\", force_remount=True).\n"
          ],
          "name": "stdout"
        }
      ]
    },
    {
      "cell_type": "markdown",
      "metadata": {
        "id": "8mRgD0pzzgJp",
        "colab_type": "text"
      },
      "source": [
        ""
      ]
    }
  ]
}